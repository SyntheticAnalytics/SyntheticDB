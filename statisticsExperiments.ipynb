{
 "cells": [
  {
   "cell_type": "code",
   "execution_count": 1,
   "id": "381dd876",
   "metadata": {},
   "outputs": [],
   "source": [
    "import matplotlib.pyplot as plt\n",
    "import numpy as np\n",
    "import pandas as pd\n",
    "from scipy import stats\n",
    "import json"
   ]
  },
  {
   "cell_type": "code",
   "execution_count": 2,
   "id": "4b628db2",
   "metadata": {},
   "outputs": [],
   "source": [
    "# s = np.random.uniform(0,100,10)\n",
    "\n",
    "# sample from U(0,100) 1000 times\n",
    "# per sample, calculate number of points above 10\n",
    "# plot distribution of number of points above 10\n",
    "\n",
    "def approxReturnNumberDistribution(left, leftCutoff, right, sampleSize, trials):\n",
    "    '''\n",
    "    for uniform distribution.\n",
    "    \n",
    "    left: left boundary of U(left, right)\n",
    "    leftCutoff: condition (i.e., x > 10)\n",
    "    right: right boundary of U(left, right)\n",
    "    sampleSize: nDraws per experiment; i.e., nDraws from U(left, right) per monte carlo iteration.\n",
    "    trials: number of experiments to perform in monte carlo (i.e., precision.)\n",
    "    '''\n",
    "    returnNumbers = []\n",
    "    for n in range(trials):\n",
    "        sample = np.random.uniform(left, right, sampleSize)\n",
    "        returnNumber = sum(x > leftCutoff for x in sample)\n",
    "        returnNumbers.append(returnNumber)\n",
    "    return returnNumbers"
   ]
  },
  {
   "cell_type": "code",
   "execution_count": 8,
   "id": "05bbfb42",
   "metadata": {},
   "outputs": [],
   "source": [
    "returnNumberDist = approxReturnNumberDistribution(0, 10, 100, 100, 10000)"
   ]
  },
  {
   "cell_type": "code",
   "execution_count": 14,
   "id": "ad498ba2",
   "metadata": {},
   "outputs": [
    {
     "data": {
      "image/png": "[encoded data removed]",
      "text/plain": [
       "<Figure size 432x288 with 1 Axes>"
      ]
     },
     "metadata": {
      "needs_background": "light"
     },
     "output_type": "display_data"
    }
   ],
   "source": [
    "count, bins, ignored = plt.hist(returnNumberDist, 25, density=True)\n",
    "plt.plot(bins, np.ones_like(bins), linewidth=2, color='r')\n",
    "plt.show()"
   ]
  }
 ],
 "metadata": {
  "kernelspec": {
   "display_name": "Python 3 (ipykernel)",
   "language": "python",
   "name": "python3"
  },
  "language_info": {
   "codemirror_mode": {
    "name": "ipython",
    "version": 3
   },
   "file_extension": ".py",
   "mimetype": "text/x-python",
   "name": "python",
   "nbconvert_exporter": "python",
   "pygments_lexer": "ipython3",
   "version": "3.9.6"
  }
 },
 "nbformat": 4,
 "nbformat_minor": 5
}
